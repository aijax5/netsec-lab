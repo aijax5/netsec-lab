{
 "nbformat": 4,
 "nbformat_minor": 2,
 "metadata": {
  "language_info": {
   "name": "python",
   "codemirror_mode": {
    "name": "ipython",
    "version": 3
   },
   "version": "3.6.9-final"
  },
  "orig_nbformat": 2,
  "file_extension": ".py",
  "mimetype": "text/x-python",
  "name": "python",
  "npconvert_exporter": "python",
  "pygments_lexer": "ipython3",
  "version": 3,
  "kernelspec": {
   "name": "python36964bit6dbd0b8b1b6641958edb42977e2341f9",
   "display_name": "Python 3.6.9 64-bit"
  }
 },
 "cells": [
  {
   "cell_type": "code",
   "execution_count": 119,
   "metadata": {},
   "outputs": [],
   "source": [
    "import random\n",
    "\n",
    "class Utilities:\n",
    "    def fermatTest(self,p):\n",
    "        a = random.randrange(1,p-1)\n",
    "        if  (a**p - a)%p :\n",
    "            return False\n",
    "        return True\n",
    "    \n",
    "    def gcd(self,a,b):\n",
    "        if (b == 0):\n",
    "            return a\n",
    "        else:\n",
    "            return self.gcd(b, a % b)\n",
    "\n",
    "    def euclidean_gcd(self,a,b):\n",
    "        x, old_x = 0, 1\n",
    "        y, old_y = 1, 0\n",
    "\n",
    "        while (b != 0):\n",
    "            q = a // b\n",
    "            a, b = b, a - q * b\n",
    "            old_x, x = x, old_x - q * x\n",
    "            old_y, y = y, old_y - q * y\n",
    "\n",
    "        return a, old_x, old_y\n",
    "\n",
    "class RSA:\n",
    "\n",
    "    def __init__(self):\n",
    "        self.util = Utilities()\n",
    "        self.createCrypoSystem()\n",
    "\n",
    "    def setPrimes(self):\n",
    "        self.p = random.randrange(5,50)\n",
    "        while(not self.util.fermatTest(self.p)):\n",
    "            self.p = random.randrange(2,50)\n",
    "        \n",
    "        self.q = random.randrange(10,50)\n",
    "        while(self.q == self.p or not self.util.fermatTest(self.p)):\n",
    "            self.q = random.randrange(10,50)\n",
    "\n",
    "    \n",
    "    def createCrypoSystem(self):\n",
    "        \n",
    "        self.setPrimes()\n",
    "        self.n = self.p*self.q\n",
    "        self.tot = (self.p -1)*(self.q-1)\n",
    "        \n",
    "        while (True):\n",
    "            temp = random.randrange(2, self.tot)\n",
    "\n",
    "            if (self.util.gcd(temp, self.tot) == 1):\n",
    "                self.e = temp\n",
    "                break\n",
    "        # self.e = 7\n",
    "        self.PU = (self.e,self.n)\n",
    "\n",
    "        def getPrivateKey():\n",
    "            gcd, x, y = self.util.euclidean_gcd(self.e, self.tot)\n",
    "            return x%self.tot\n",
    "        \n",
    "        self.d = getPrivateKey()\n",
    "        print(\"_____ created RSA cryptosystem with  following configuration _____\")\n",
    "        print(\"randomly choosen primes p = \",self.p,\" q = \",self.q)\n",
    "        print(\"public key (e, phi(n)) = \",self.PU)\n",
    "        print(\"private key d = \", self.d)\n",
    "\n",
    "    def getPublicKey(self):\n",
    "        return self.PU\n",
    "\n",
    "    def encrypt(self):\n",
    "        m = int(input(\"Please enter a message (format: INT32 < \"+str(self.n)+\" )\"))\n",
    "        temp = self.e\n",
    "        c =1\n",
    "        while(temp):\n",
    "            c = (c*m )\n",
    "            c %= self.n\n",
    "            temp -= 1\n",
    "        c = c % self.n\n",
    "        print(\"cipher text of message M = \",m,\" is C = \",c)\n",
    "        return c\n",
    "\n",
    "    def decrypt(self,c):\n",
    "        c = int(input(\"Please enter a message (format: INT32 < \"+str(self.n)+\" )\"))\n",
    "        c= int(c)\n",
    "        temp = self.d\n",
    "        m =1\n",
    "        while(temp):\n",
    "            m = (c*m )\n",
    "            m %= self.n\n",
    "            temp -= 1\n",
    "        m = m % self.n\n",
    "        print(\"Plain text of cipher = \",c,\" is m = \",m)\n",
    "        \n",
    "# if __name__ =='__main__':\n",
    "#     rsa = RSA()\n",
    "#     rsa.encrypt()\n",
    "#     rsa.decrypt()\n",
    ""
   ]
  },
  {
   "cell_type": "code",
   "execution_count": 120,
   "metadata": {},
   "outputs": [
    {
     "output_type": "stream",
     "name": "stdout",
     "text": "_____ created RSA cryptosystem with  following configuration _____\nrandomly choosen primes p =  21  q =  43\npublic key (e, phi(n)) =  (89, 903)\nprivate key d =  689\n"
    }
   ],
   "source": [
    "rsa = RSA()"
   ]
  },
  {
   "cell_type": "code",
   "execution_count": 121,
   "metadata": {},
   "outputs": [
    {
     "output_type": "execute_result",
     "data": {
      "text/plain": "(89, 903)"
     },
     "metadata": {},
     "execution_count": 121
    }
   ],
   "source": [
    "rsa.getPublicKey()"
   ]
  },
  {
   "cell_type": "code",
   "execution_count": 122,
   "metadata": {},
   "outputs": [
    {
     "output_type": "stream",
     "name": "stdout",
     "text": "cipher text of message M =  901  is C =  871\n"
    }
   ],
   "source": [
    "p = rsa.encrypt()"
   ]
  },
  {
   "cell_type": "code",
   "execution_count": 123,
   "metadata": {},
   "outputs": [
    {
     "output_type": "stream",
     "name": "stdout",
     "text": "Plain text of cipher =  871  is m =  901\n"
    }
   ],
   "source": [
    "rsa.decrypt(p)"
   ]
  },
  {
   "cell_type": "code",
   "execution_count": 80,
   "metadata": {},
   "outputs": [],
   "source": [
    "temp = 271\n",
    "m = 1\n",
    "while(temp):\n",
    "        m = (729*m )%rsa.n\n",
    "        temp -= 1\n",
    "        m = m % rsa.n"
   ]
  },
  {
   "cell_type": "code",
   "execution_count": 81,
   "metadata": {},
   "outputs": [
    {
     "output_type": "execute_result",
     "data": {
      "text/plain": "25"
     },
     "metadata": {},
     "execution_count": 81
    }
   ],
   "source": [
    "m"
   ]
  },
  {
   "cell_type": "code",
   "execution_count": null,
   "metadata": {},
   "outputs": [],
   "source": []
  }
 ]
}