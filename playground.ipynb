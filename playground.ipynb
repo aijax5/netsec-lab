{
 "nbformat": 4,
 "nbformat_minor": 2,
 "metadata": {
  "language_info": {
   "name": "python",
   "codemirror_mode": {
    "name": "ipython",
    "version": 3
   },
   "version": "3.6.9-final"
  },
  "orig_nbformat": 2,
  "file_extension": ".py",
  "mimetype": "text/x-python",
  "name": "python",
  "npconvert_exporter": "python",
  "pygments_lexer": "ipython3",
  "version": 3,
  "kernelspec": {
   "name": "python36964bit6dbd0b8b1b6641958edb42977e2341f9",
   "display_name": "Python 3.6.9 64-bit"
  }
 },
 "cells": [
  {
   "cell_type": "code",
   "execution_count": 1,
   "metadata": {},
   "outputs": [
    {
     "output_type": "error",
     "ename": "IndentationError",
     "evalue": "unexpected indent (<ipython-input-1-f66ba4f38b44>, line 13)",
     "traceback": [
      "\u001b[0;36m  File \u001b[0;32m\"<ipython-input-1-f66ba4f38b44>\"\u001b[0;36m, line \u001b[0;32m13\u001b[0m\n\u001b[0;31m    SOCK.bind(ADDR)\u001b[0m\n\u001b[0m    ^\u001b[0m\n\u001b[0;31mIndentationError\u001b[0m\u001b[0;31m:\u001b[0m unexpected indent\n"
     ]
    }
   ],
   "source": [
    "from socket import AF_INET, socket, SOCK_STREAM\n",
    "from threading import Thread\n",
    "\n",
    "clients = {}\n",
    "users = {}\n",
    "\n",
    "# def setupServer(host,port):\n",
    "HOST = \"127.0.0.1\"\n",
    "PORT = 5000\n",
    "BUFSIZ = 1024\n",
    "ADDR = (HOST,PORT)\n",
    "SOCK = socket(AF_INET, SOCK_STREAM)\n",
    "SOCK.bind(ADDR)\n",
    "\n",
    "def connectClients():\n",
    "    while True:\n",
    "        client, client_address = SOCK.accept()\n",
    "        print(\"%s:%s has connected.\" % client_address)\n",
    "        client.send(\"0Hello there! Let's get you registered! \".encode(\"utf8\"))\n",
    "        client.send(\"Please enter 4 digit user ID\".encode(\"utf8\"))\n",
    "        Thread(target=handle_client, args=(client)).start()\n",
    "\n",
    "\n",
    "def registerUser(conn, addr): \n",
    "    uid = conn.recv(BUFSIZ).decode(\"utf8\")\n",
    "    if uid in users:\n",
    "        print(\"user ID : %s has already registered\")\n",
    "        return\n",
    "    welcome = '2\\nuser ID : %s \\nPlease enter a password:\\n' % name\n",
    "    conn.send(bytes(welcome, \"utf8\"))\n",
    "    pswd = conn.recv(BUFSIZ).decode(\"utf8\")\n",
    "    print(\"received pswd\",pswd)\n",
    "    users[uid] = pswd\n",
    "    clients[uid] = conn\n",
    "\n",
    "if __name__ == \"__main__\"\n",
    "    \n",
    "    SOCK.listen(5)\n",
    "    print(\"server is up and running...\")\n",
    "    ACCEPT_THREAD = Thread(target=connectClients)\n",
    "    ACCEPT_THREAD.start()  \n",
    "    ACCEPT_THREAD.join()\n",
    "    SOCK.close()"
   ]
  },
  {
   "cell_type": "code",
   "execution_count": 128,
   "metadata": {},
   "outputs": [],
   "source": [
    "user = {}\n",
    "user[\"emma\"] = 26"
   ]
  },
  {
   "cell_type": "code",
   "execution_count": 131,
   "metadata": {},
   "outputs": [
    {
     "output_type": "stream",
     "name": "stdout",
     "text": "najafa\n"
    }
   ],
   "source": [
    "if(\"harry\" in user):\n",
    "    print(\"najafa\")\n",
    "user[\"harry\"] = 69"
   ]
  },
  {
   "cell_type": "code",
   "execution_count": null,
   "metadata": {},
   "outputs": [],
   "source": []
  }
 ]
}